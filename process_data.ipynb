{
 "cells": [
  {
   "cell_type": "code",
   "execution_count": 1,
   "metadata": {},
   "outputs": [],
   "source": [
    "import os\n",
    "import random\n",
    "import numpy as np"
   ]
  },
  {
   "cell_type": "code",
   "execution_count": 2,
   "metadata": {},
   "outputs": [],
   "source": [
    "import os\n",
    "import csv\n",
    "import numpy as np\n",
    "\n",
    "def process_file(file_path: str, output_path: str) -> None:\n",
    "    \"\"\" Xử lý một file dữ liệu .txt chuyển đổi sang file .csv mà không dùng dấu ngoặc kép\n",
    "\n",
    "    Parameters\n",
    "    ----------\n",
    "    file_path : str\n",
    "        Đường dẫn đến file dữ liệu cần xử lý với định dạng: <items>:<total_utility>:<item_utilities>.\n",
    "    output_path : str\n",
    "        Đường dẫn đến file sau khi xử lý với định dạng: <items>,<item_utilities>,<item_probabilities>.\n",
    "    \"\"\"\n",
    "    with open(file_path, 'r') as infile, open(output_path, 'w', newline='') as outfile:\n",
    "        csv_writer = csv.writer(outfile)\n",
    "        # Ghi tiêu đề vào file CSV\n",
    "        csv_writer.writerow([\"items\", \"item_utilities\", \"item_probabilities\"])\n",
    "\n",
    "        for line in infile:\n",
    "            line = line.strip()\n",
    "            \n",
    "            if not line:\n",
    "                continue\n",
    "            \n",
    "            try:\n",
    "                items_part, _, item_utilities = line.split(':')\n",
    "                \n",
    "                # Chuyển đổi các chuỗi thành danh sách\n",
    "                items = list(map(int, items_part.split()))\n",
    "                utilities = list(map(int, item_utilities.split()))\n",
    "                \n",
    "                if len(items) != len(utilities):\n",
    "                    print(f\"Lỗi số lượng items và utilities không bằng dòng {line}\")\n",
    "                    continue\n",
    "                \n",
    "                # Sinh xác suất ngẫu nhiên cho mỗi item\n",
    "                probabilities = np.round(np.random.uniform(0.01, 1.0, len(items)), 2).tolist()\n",
    "                \n",
    "                # Ghi dữ liệu vào file CSV mà không có dấu ngoặc kép\n",
    "                csv_writer.writerow([ ' '.join(map(str, items)), ' '.join(map(str, utilities)), ' '.join(map(str, probabilities)) ])\n",
    "            \n",
    "            except Exception as e:\n",
    "                print(f\"Lỗi xử lý dòng {line}: {e}\")\n",
    "        \n",
    "        print(f\"Xử lý xong file {file_path} và lưu vào {output_path}\")\n",
    "\n",
    "def process_all_txt_files_and_save_csv(input_dir: str, output_dir: str) -> None:\n",
    "    \"\"\" Xử lý tất cả các file dữ liệu .txt trong thư mục input_dir và lưu vào thư mục output_dir dưới dạng CSV\n",
    "\n",
    "    Parameters\n",
    "    ----------\n",
    "    input_dir : str\n",
    "        Đường dẫn đến thư mục chứa các file dữ liệu cần xử lý.\n",
    "    output_dir : str\n",
    "        Đường dẫn đến thư mục chứa các file sau khi xử lý.\n",
    "    \"\"\"\n",
    "    \n",
    "    # Đảm bảo thư mục đầu ra tồn tại\n",
    "    os.makedirs(output_dir, exist_ok=True)\n",
    "\n",
    "    # Duyệt qua tất cả các tệp .txt trong thư mục đầu vào\n",
    "    for file_name in os.listdir(input_dir):\n",
    "        if file_name.endswith(\".txt\"):\n",
    "            input_file_path = os.path.join(input_dir, file_name)\n",
    "            output_csv_path = os.path.join(output_dir, f\"processed_{os.path.splitext(file_name)[0]}.csv\")\n",
    "            \n",
    "            # Gọi hàm xử lý tệp\n",
    "            print(f\"Đang xử lý tệp: {input_file_path}\")\n",
    "            process_file(input_file_path, output_csv_path)\n",
    "            print(\"==\" * 30)\n"
   ]
  },
  {
   "cell_type": "code",
   "execution_count": 3,
   "metadata": {},
   "outputs": [
    {
     "name": "stdout",
     "output_type": "stream",
     "text": [
      "Đang xử lý tệp: data\\chess_utility_spmf.txt\n",
      "Xử lý xong file data\\chess_utility_spmf.txt và lưu vào Uncertain_DB\\processed_chess_utility_spmf.csv\n",
      "============================================================\n",
      "Đang xử lý tệp: data\\connect_utility_spmf.txt\n",
      "Xử lý xong file data\\connect_utility_spmf.txt và lưu vào Uncertain_DB\\processed_connect_utility_spmf.csv\n",
      "============================================================\n",
      "Đang xử lý tệp: data\\foodmart.txt\n",
      "Xử lý xong file data\\foodmart.txt và lưu vào Uncertain_DB\\processed_foodmart.csv\n",
      "============================================================\n",
      "Đang xử lý tệp: data\\mushroom_utility_SPMF.txt\n",
      "Xử lý xong file data\\mushroom_utility_SPMF.txt và lưu vào Uncertain_DB\\processed_mushroom_utility_SPMF.csv\n",
      "============================================================\n",
      "Đang xử lý tệp: data\\pumsb_utility_spmf.txt\n",
      "Xử lý xong file data\\pumsb_utility_spmf.txt và lưu vào Uncertain_DB\\processed_pumsb_utility_spmf.csv\n",
      "============================================================\n",
      "Đang xử lý tệp: data\\retail_utility_spmf.txt\n",
      "Xử lý xong file data\\retail_utility_spmf.txt và lưu vào Uncertain_DB\\processed_retail_utility_spmf.csv\n",
      "============================================================\n"
     ]
    }
   ],
   "source": [
    "input_directory = \"data\"  # Thư mục đầu vào chứa các tệp .txt\n",
    "output_directory = \"Uncertain_DB\"  # Thư mục đầu ra chứa các tệp đã xử lý\n",
    "\n",
    "process_all_txt_files_and_save_csv(input_directory, output_directory)"
   ]
  }
 ],
 "metadata": {
  "kernelspec": {
   "display_name": "base",
   "language": "python",
   "name": "python3"
  },
  "language_info": {
   "codemirror_mode": {
    "name": "ipython",
    "version": 3
   },
   "file_extension": ".py",
   "mimetype": "text/x-python",
   "name": "python",
   "nbconvert_exporter": "python",
   "pygments_lexer": "ipython3",
   "version": "3.11.10"
  }
 },
 "nbformat": 4,
 "nbformat_minor": 2
}
